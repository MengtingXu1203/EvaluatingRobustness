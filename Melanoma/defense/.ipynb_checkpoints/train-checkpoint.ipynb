{
 "cells": [
  {
   "cell_type": "code",
   "execution_count": 1,
   "metadata": {},
   "outputs": [
    {
     "name": "stderr",
     "output_type": "stream",
     "text": [
      "/home/lrh/anaconda3/lib/python3.6/site-packages/libadver/utils.py:46: UserWarning: Code Running Environment is not in Terminal, we can not invoke progress_bar!!\n",
      "  warnings.warn(\"Code Running Environment is not in Terminal, we can not invoke progress_bar!!\")\n"
     ]
    }
   ],
   "source": [
    "import libadver\n",
    "import os\n",
    "import csv\n",
    "import argparse\n",
    "import numpy as np\n",
    "import torch\n",
    "import torch.nn as nn\n",
    "import torch.nn.functional as F\n",
    "import torchvision\n",
    "import torchvision.utils as utils\n",
    "import torch.backends.cudnn as cudnn\n",
    "import torch.optim as optim\n",
    "import torch.optim.lr_scheduler as lr_scheduler\n",
    "#import torchvision.transforms as torch_transforms\n",
    "from networks import AttnVGG, VGG\n",
    "from loss import FocalLoss\n",
    "from data import preprocess_data_2016, preprocess_data_2017, ISIC, load_data\n",
    "from utilities import *\n",
    "from transforms import *\n",
    "import libadver.attack as attack\n",
    "from torchvision.transforms import transforms\n",
    "from PIL import Image\n",
    "from sklearn.metrics import roc_auc_score\n",
    "from sklearn.metrics import roc_curve\n",
    "from matplotlib import pyplot as plt\n",
    "\n",
    "pgd_params = {\n",
    "            'ord': np.inf,\n",
    "            'y': None,\n",
    "            'eps': 4.0 / 255,\n",
    "            'eps_iter': 1 / 255,\n",
    "            'nb_iter': 4,\n",
    "            'rand_init': True,\n",
    "            'rand_minmax': 50.0 / 255,\n",
    "            'clip_min': 0.,\n",
    "            'clip_max': 1.,\n",
    "            'sanity_checks': True\n",
    "        }"
   ]
  },
  {
   "cell_type": "code",
   "execution_count": 2,
   "metadata": {},
   "outputs": [
    {
     "name": "stdout",
     "output_type": "stream",
     "text": [
      "====>load data\n",
      "done\n",
      "\n"
     ]
    }
   ],
   "source": [
    "print('====>load data')\n",
    "mean = (0.7012, 0.5517, 0.4875)\n",
    "std = (0.0942, 0.1331, 0.1521)\n",
    "normalize = Normalize(mean, std)\n",
    "transform_train = transforms.Compose([\n",
    "    RatioCenterCrop(0.8),\n",
    "    Resize((256,256)),\n",
    "    RandomCrop((224,224)),\n",
    "    RandomRotate(),\n",
    "    RandomHorizontalFlip(),\n",
    "    RandomVerticalFlip(),\n",
    "    ToTensor(),\n",
    "    normalize\n",
    "])\n",
    "\n",
    "transform_val = transforms.Compose([\n",
    "    RatioCenterCrop(0.8),\n",
    "    Resize((256,256)),\n",
    "    CenterCrop((224,224)),\n",
    "    ToTensor(),\n",
    "    normalize\n",
    "])\n",
    "trainCSVFile = '/home/lrh/git/Evaluating_Robustness_Of_Deep_Medical_Models/Dermothsis/train.csv'\n",
    "valCSVFile = '/home/lrh/git/Evaluating_Robustness_Of_Deep_Medical_Models/Dermothsis/val.csv'\n",
    "\n",
    "trainset = ISIC(csv_file=trainCSVFile, transform=transform_train)\n",
    "trainloader = torch.utils.data.DataLoader(trainset, batch_size=32, shuffle=True,\n",
    "    num_workers=8, drop_last=True)\n",
    "\n",
    "valset = ISIC(csv_file=valCSVFile, transform=transform_val)\n",
    "valloader = torch.utils.data.DataLoader(valset, batch_size=16, shuffle=False, num_workers=8)\n",
    "print('done\\n')\n",
    "\n"
   ]
  },
  {
   "cell_type": "code",
   "execution_count": 3,
   "metadata": {},
   "outputs": [
    {
     "name": "stdout",
     "output_type": "stream",
     "text": [
      "\n",
      "load the model...\n",
      "done\n",
      "\n",
      "\n",
      "moving model to GPU..\n",
      "done\n",
      "\n"
     ]
    },
    {
     "ename": "NameError",
     "evalue": "name 'lr_scheduler' is not defined",
     "output_type": "error",
     "traceback": [
      "\u001b[0;31m---------------------------------------------------------------------------\u001b[0m",
      "\u001b[0;31mNameError\u001b[0m                                 Traceback (most recent call last)",
      "\u001b[0;32m<ipython-input-3-1b3aefd96476>\u001b[0m in \u001b[0;36m<module>\u001b[0;34m()\u001b[0m\n\u001b[1;32m     13\u001b[0m \u001b[0moptimizer\u001b[0m \u001b[0;34m=\u001b[0m \u001b[0moptim\u001b[0m\u001b[0;34m.\u001b[0m\u001b[0mSGD\u001b[0m\u001b[0;34m(\u001b[0m\u001b[0mclf\u001b[0m\u001b[0;34m.\u001b[0m\u001b[0mparameters\u001b[0m\u001b[0;34m(\u001b[0m\u001b[0;34m)\u001b[0m\u001b[0;34m,\u001b[0m\u001b[0mlr\u001b[0m\u001b[0;34m=\u001b[0m\u001b[0mlearningRate\u001b[0m\u001b[0;34m,\u001b[0m\u001b[0mmomentum\u001b[0m\u001b[0;34m=\u001b[0m\u001b[0;36m0.9\u001b[0m\u001b[0;34m,\u001b[0m\u001b[0mweight_decay\u001b[0m\u001b[0;34m=\u001b[0m\u001b[0;36m1e-4\u001b[0m\u001b[0;34m,\u001b[0m\u001b[0mnesterov\u001b[0m\u001b[0;34m=\u001b[0m\u001b[0;32mTrue\u001b[0m\u001b[0;34m)\u001b[0m\u001b[0;34m\u001b[0m\u001b[0m\n\u001b[1;32m     14\u001b[0m \u001b[0mlr_lambda\u001b[0m \u001b[0;34m=\u001b[0m \u001b[0;32mlambda\u001b[0m \u001b[0mepoch\u001b[0m \u001b[0;34m:\u001b[0m \u001b[0mnp\u001b[0m\u001b[0;34m.\u001b[0m\u001b[0mpower\u001b[0m\u001b[0;34m(\u001b[0m\u001b[0;36m0.1\u001b[0m\u001b[0;34m,\u001b[0m \u001b[0mepoch\u001b[0m\u001b[0;34m//\u001b[0m\u001b[0;36m10\u001b[0m\u001b[0;34m)\u001b[0m\u001b[0;34m\u001b[0m\u001b[0m\n\u001b[0;32m---> 15\u001b[0;31m \u001b[0mscheduler\u001b[0m \u001b[0;34m=\u001b[0m \u001b[0mlr_scheduler\u001b[0m\u001b[0;34m.\u001b[0m\u001b[0mLambdaLR\u001b[0m\u001b[0;34m(\u001b[0m\u001b[0moptimizer\u001b[0m\u001b[0;34m,\u001b[0m \u001b[0mlr_lambda\u001b[0m\u001b[0;34m=\u001b[0m\u001b[0mlr_lambda\u001b[0m\u001b[0;34m)\u001b[0m\u001b[0;34m\u001b[0m\u001b[0m\n\u001b[0m",
      "\u001b[0;31mNameError\u001b[0m: name 'lr_scheduler' is not defined"
     ]
    }
   ],
   "source": [
    "learningRate = 0.01\n",
    "print('\\nload the model...')\n",
    "net = AttnVGG(num_classes=2,attention=True,normalize_attn=False)\n",
    "criterion = FocalLoss()\n",
    "print('done\\n')\n",
    "print('\\nmoving model to GPU..')\n",
    "clf = net.cuda()\n",
    "clf = torch.nn.DataParallel(clf)\n",
    "cudnn.benchmark = True\n",
    "criterion = criterion.cuda()\n",
    "print('done\\n')\n",
    "\n",
    "optimizer = optim.SGD(clf.parameters(),lr=learningRate,momentum=0.9,weight_decay=1e-4,nesterov=True)\n",
    "lr_lambda = lambda epoch : np.power(0.1, epoch//10)\n",
    "scheduler = lr_scheduler.LambdaLR(optimizer, lr_lambda=lr_lambda)\n"
   ]
  },
  {
   "cell_type": "code",
   "execution_count": null,
   "metadata": {},
   "outputs": [],
   "source": []
  }
 ],
 "metadata": {
  "kernelspec": {
   "display_name": "Python 3",
   "language": "python",
   "name": "python3"
  },
  "language_info": {
   "codemirror_mode": {
    "name": "ipython",
    "version": 3
   },
   "file_extension": ".py",
   "mimetype": "text/x-python",
   "name": "python",
   "nbconvert_exporter": "python",
   "pygments_lexer": "ipython3",
   "version": "3.6.4"
  }
 },
 "nbformat": 4,
 "nbformat_minor": 2
}
